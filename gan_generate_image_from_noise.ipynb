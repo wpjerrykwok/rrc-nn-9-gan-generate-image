{
 "cells": [
  {
   "cell_type": "markdown",
   "metadata": {},
   "source": [
    "# Creating New Symbols for Digits"
   ]
  },
  {
   "cell_type": "markdown",
   "metadata": {},
   "source": [
    "## Objective:\n",
    "To create a model that generates images that look similar to handwritten Arabic digits.\n",
    "\n",
    "## Data:\n",
    "Obtained from Arabic Handwritten Digits Dataset | Kaggle , original source unknown.\n",
    "\n",
    "## Problem Statement:\n",
    "You are working with a team that is developing an online game where users travel to an alien planet and try to learn the language, culture, religion, and science of the planetary society. The game designers would like a set of characters to represent digits, different from any of those used on earth. To develop this set of characters, your job is to train a GAN on Arabic Handwritten digits and use it to create new symbols for representing digits on an alien planet.\n",
    "\n",
    "## Arabic Digits:\n",
    "Arabic digits correspond to Roman digits according to the table below (N.Das, A. Mollah, S. Saha, S. Haque, 2010, https://arxiv.org/abs/1003.1891):"
   ]
  },
  {
   "cell_type": "markdown",
   "metadata": {},
   "source": [
    "### 1. Data\n",
    "a. Each row of the train and test datafiles contain gray scale values of a 28 x 28 image. Load these CSV files into pandas dataframes, Convert the dataframes into numpy arrays using *pandas.values*. Print the shape of each dataframe."
   ]
  },
  {
   "cell_type": "markdown",
   "metadata": {},
   "source": [
    "b. Normalize both dataframes by dividing each value by 255. Reshape the array so each image is 28 x 28 using *numpy.ndarray.reshape*. Use *matplotlib.plot.imshow* and *matplotlib.plot.subplot* to give a plot of the first 25 training images in a 5x5 subplot, using the 'gray' colour map."
   ]
  },
  {
   "cell_type": "markdown",
   "metadata": {},
   "source": [
    "c. Load the label CSV files into dataframes and convert them to numpy arrays using pandas.values. Reshape them into 2d numpy arrays."
   ]
  },
  {
   "cell_type": "markdown",
   "metadata": {},
   "source": [
    "### 2. Modeling (see Exercise 7.05 for help with these steps)\n",
    "a. Create a function that generates real sample of data from the training dataset."
   ]
  },
  {
   "cell_type": "markdown",
   "metadata": {},
   "source": [
    "b. Create a function to generate inputs for the fake data generator function."
   ]
  },
  {
   "cell_type": "markdown",
   "metadata": {},
   "source": [
    "c. Define and compile a generator model; follow an architecture similar to that used in Exercise 7.05."
   ]
  },
  {
   "cell_type": "markdown",
   "metadata": {},
   "source": [
    "d. Create a function to generate fake samples using the generator model, taking input from the function created in part b."
   ]
  },
  {
   "cell_type": "markdown",
   "metadata": {},
   "source": [
    "e. Define and compile a discriminator model; follow an architecture similar to that used in Exercise 7.05."
   ]
  },
  {
   "cell_type": "markdown",
   "metadata": {},
   "source": [
    "f. Define and compile a GAN model from the generator and discriminator models; be sure to set the discriminator part to be untrainable; follow an architecture similar to that used in Exercise 7.05."
   ]
  },
  {
   "cell_type": "markdown",
   "metadata": {},
   "source": [
    "g. Train the GAN network using *tf.keras.train_on_batch*."
   ]
  },
  {
   "cell_type": "markdown",
   "metadata": {},
   "source": [
    "### 3. Conclusions\n",
    "a. Generate 25 fake images and display them in a 5x5 grid. If the images do not look realistic, revisit the modeling section to improve the generator model. Record in markdown the adjustments you have made to get the model working well. Keep and display the image plots for each version of the model you try."
   ]
  },
  {
   "cell_type": "markdown",
   "metadata": {},
   "source": [
    "b. Select and display the best 10 images from your best generator model to use as alien digits in the game. Use markdown to comment on whether these images look like something aliens might use to represent digits."
   ]
  },
  {
   "cell_type": "code",
   "execution_count": null,
   "metadata": {},
   "outputs": [],
   "source": []
  }
 ],
 "metadata": {
  "language_info": {
   "name": "python"
  }
 },
 "nbformat": 4,
 "nbformat_minor": 2
}
